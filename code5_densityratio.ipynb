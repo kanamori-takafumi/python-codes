{
 "cells": [
  {
   "cell_type": "markdown",
   "metadata": {
    "slideshow": {
     "slide_type": "slide"
    }
   },
   "source": [
    "# 密度比"
   ]
  },
  {
   "cell_type": "markdown",
   "metadata": {
    "slideshow": {
     "slide_type": "slide"
    }
   },
   "source": [
    "## 密度比の推定"
   ]
  },
  {
   "cell_type": "markdown",
   "metadata": {
    "slideshow": {
     "slide_type": "slide"
    }
   },
   "source": [
    "## ライブラリなど読み込み"
   ]
  },
  {
   "cell_type": "code",
   "execution_count": null,
   "metadata": {
    "slideshow": {
     "slide_type": "fragment"
    }
   },
   "outputs": [],
   "source": [
    "import numpy as np               \n",
    "import matplotlib.pyplot as plt \n",
    "from scipy.stats import norm\n",
    "from common.DensityRatio import kernelDensityRatio  # 密度比スクリプト"
   ]
  },
  {
   "cell_type": "markdown",
   "metadata": {
    "slideshow": {
     "slide_type": "slide"
    }
   },
   "source": [
    "## データ生成"
   ]
  },
  {
   "cell_type": "code",
   "execution_count": null,
   "metadata": {
    "slideshow": {
     "slide_type": "-"
    }
   },
   "outputs": [],
   "source": [
    "# データ設定 \n",
    "n, m = 100, 200\n",
    "tr_mean, tr_sd = -0.5, 1\n",
    "te_mean, te_sd = 0.5, 0.8\n",
    "# データ生成\n",
    "dat_tr = np.random.normal(loc=tr_mean, scale=tr_sd, size=n).reshape(n,1)\n",
    "dat_te = np.random.normal(loc=te_mean, scale=te_sd, size=m).reshape(m,1)"
   ]
  },
  {
   "cell_type": "markdown",
   "metadata": {
    "slideshow": {
     "slide_type": "slide"
    }
   },
   "source": [
    "## 確率分布と密度比の計算"
   ]
  },
  {
   "cell_type": "code",
   "execution_count": null,
   "metadata": {
    "slideshow": {
     "slide_type": "-"
    }
   },
   "outputs": [],
   "source": [
    "newdat = np.linspace(-4,6,500).reshape(500,1)  # 予測点\n",
    "Prob_tr =  norm.pdf(newdat, tr_mean, tr_sd)      # 確率密度の計算\n",
    "Prob_te = norm.pdf(newdat, te_mean, te_sd)\n",
    "ratio = Prob_te/Prob_tr                              # 予測点上での真の密度比"
   ]
  },
  {
   "cell_type": "markdown",
   "metadata": {
    "slideshow": {
     "slide_type": "slide"
    }
   },
   "source": [
    "## プロット：密度比"
   ]
  },
  {
   "cell_type": "code",
   "execution_count": null,
   "metadata": {
    "scrolled": true,
    "slideshow": {
     "slide_type": "-"
    }
   },
   "outputs": [],
   "source": [
    "# 真の密度比関数のプロット\n",
    "plt.plot(newdat,ratio, lw=3, label=\"density ratio\")\n",
    "# データ点のプロット\n",
    "plt.scatter(dat_te.reshape(-1), np.repeat(0.3,m),marker='.',c='black',s=20, label=\"test data\")\n",
    "plt.scatter(dat_tr.reshape(-1), np.repeat(0.1,n),marker='x',c='gray',s=20, label=\"train data\")\n",
    "plt.legend(); plt.show()"
   ]
  },
  {
   "cell_type": "markdown",
   "metadata": {
    "slideshow": {
     "slide_type": "slide"
    }
   },
   "source": [
    "## 密度比の推定\n",
    "DensityRatio.kernelDensityRatio "
   ]
  },
  {
   "cell_type": "code",
   "execution_count": null,
   "metadata": {
    "slideshow": {
     "slide_type": "fragment"
    }
   },
   "outputs": [],
   "source": [
    "# 以下のカーネル幅で推定\n",
    "dr = kernelDensityRatio(gamma=0.5)\n",
    "dr.fit(dat_tr, dat_te)                   # データへのフィッティング\n",
    "drp = dr.predict(newdat)            # 密度比の予測値"
   ]
  },
  {
   "cell_type": "markdown",
   "metadata": {
    "slideshow": {
     "slide_type": "slide"
    }
   },
   "source": [
    "## プロット：密度比の推定結果"
   ]
  },
  {
   "cell_type": "code",
   "execution_count": null,
   "metadata": {
    "slideshow": {
     "slide_type": "fragment"
    }
   },
   "outputs": [],
   "source": [
    "plt.plot(newdat,drp, c='red',linestyle='dashed',label='estimate')  # 密度比の推定結果をプロット\n",
    "plt.plot(newdat,ratio,lw=2,label='true r(x)')                                     # 真の密度比関数のプロット\n",
    "plt.scatter(dat_te.reshape(-1), np.repeat(0.3,m),marker='.',c='black',s=20) \n",
    "plt.scatter(dat_tr.reshape(-1), np.repeat(0.1,n),marker='x',c='gray',s=20)\n",
    "plt.legend(); plt.show()"
   ]
  },
  {
   "cell_type": "markdown",
   "metadata": {
    "slideshow": {
     "slide_type": "slide"
    }
   },
   "source": [
    "## 異常検知"
   ]
  },
  {
   "cell_type": "markdown",
   "metadata": {
    "slideshow": {
     "slide_type": "slide"
    }
   },
   "source": [
    "## データ読み込み：手書き数字の画像"
   ]
  },
  {
   "cell_type": "code",
   "execution_count": null,
   "metadata": {
    "slideshow": {
     "slide_type": "-"
    }
   },
   "outputs": [],
   "source": [
    "from sklearn.datasets import load_digits\n",
    "digits = load_digits()\n",
    "idx = 4\n",
    "print(\"label =\",digits.target[idx])\n",
    "plt.gray(); plt.matshow(digits.images[idx]); plt.show()"
   ]
  },
  {
   "cell_type": "markdown",
   "metadata": {
    "slideshow": {
     "slide_type": "slide"
    }
   },
   "source": [
    "## データ生成\n",
    "- 正常データ：\"1\"の画像\n",
    "- 調べるデータ：\"1\"と\"7\"の画像． \"7\"は少ない"
   ]
  },
  {
   "cell_type": "markdown",
   "metadata": {
    "slideshow": {
     "slide_type": "slide"
    }
   },
   "source": [
    "- 各データは64次元 (8 x 8 の画像)\n",
    "- 調べるデータ tr:   最初の 10 個のデータ が \"7\"， 他は \"1\""
   ]
  },
  {
   "cell_type": "code",
   "execution_count": null,
   "metadata": {
    "slideshow": {
     "slide_type": "-"
    }
   },
   "outputs": [],
   "source": [
    "x1 = digits.images[digits.target==1,]; x1=x1.reshape(x1.shape[0],64)\n",
    "x2 = digits.images[digits.target==7,]; x2=x2.reshape(x2.shape[0],64)\n",
    "\n",
    "te = x1[np.random.randint(0, x1.shape[0], (100,))]             # 正常データ\n",
    "tr =  np.r_[x2[np.random.randint(0, x2.shape[0], (10,))],     # 調べるデータ\n",
    "            x1[np.random.randint(0, x1.shape[0], (100,))]]"
   ]
  },
  {
   "cell_type": "markdown",
   "metadata": {
    "slideshow": {
     "slide_type": "slide"
    }
   },
   "source": [
    "## 密度比の推定："
   ]
  },
  {
   "cell_type": "code",
   "execution_count": null,
   "metadata": {
    "slideshow": {
     "slide_type": "fragment"
    }
   },
   "outputs": [],
   "source": [
    "dr = kernelDensityRatio(gamma=0.1)\n",
    "dr.fit(tr, te)\n",
    "drp = dr.predict(tr)"
   ]
  },
  {
   "cell_type": "markdown",
   "metadata": {
    "slideshow": {
     "slide_type": "subslide"
    }
   },
   "source": [
    "## 密度比を小さい順に並べ替え"
   ]
  },
  {
   "cell_type": "code",
   "execution_count": null,
   "metadata": {
    "slideshow": {
     "slide_type": "-"
    }
   },
   "outputs": [],
   "source": [
    "outlier_rank = np.argsort(drp)\n",
    "print(outlier_rank)"
   ]
  },
  {
   "cell_type": "markdown",
   "metadata": {
    "slideshow": {
     "slide_type": "-"
    }
   },
   "source": [
    "- 0,1,2,...,9 は最初のほうにある"
   ]
  },
  {
   "cell_type": "markdown",
   "metadata": {
    "slideshow": {
     "slide_type": "slide"
    }
   },
   "source": [
    "## 調べたデータの中で，\"７\" に近い \"１\" の画像"
   ]
  },
  {
   "cell_type": "code",
   "execution_count": null,
   "metadata": {
    "slideshow": {
     "slide_type": "-"
    }
   },
   "outputs": [],
   "source": [
    "idx = outlier_rank[outlier_rank>9][0]\n",
    "plt.gray()\n",
    "plt.matshow(x2[idx].reshape(8,8))\n",
    "plt.show() "
   ]
  },
  {
   "cell_type": "markdown",
   "metadata": {
    "slideshow": {
     "slide_type": "slide"
    }
   },
   "source": [
    "## 共変量シフトの下での回帰分析"
   ]
  },
  {
   "cell_type": "markdown",
   "metadata": {
    "slideshow": {
     "slide_type": "slide"
    }
   },
   "source": [
    "## データ生成"
   ]
  },
  {
   "cell_type": "code",
   "execution_count": null,
   "metadata": {
    "slideshow": {
     "slide_type": "-"
    }
   },
   "outputs": [],
   "source": [
    "# 真の回帰関数 \n",
    "def f(x):            \n",
    "    return (x+2)*(x-3)*x\n",
    "# データ設定\n",
    "ntr, mtr, sdtr   = 100, -1.4, 0.7\n",
    "nte, mte, sdte = 100,  0.8, 0.8"
   ]
  },
  {
   "cell_type": "code",
   "execution_count": null,
   "metadata": {
    "slideshow": {
     "slide_type": "subslide"
    }
   },
   "outputs": [],
   "source": [
    "# トレーニングデータ生成\n",
    "xtr = np.random.normal(loc=mtr, scale=sdtr, size=ntr).reshape(ntr,1)\n",
    "ytr = f(xtr) + np.random.normal(scale=2, size=ntr).reshape(ntr,1)\n",
    "Xtr = np.c_[np.repeat(1,xtr.shape[0]),xtr] # データ行列\n",
    "\n",
    "# テストデータ生成\n",
    "xte = np.random.normal(loc=mte, scale=sdte, size=nte).reshape(nte,1)\n",
    "yte = f(xte) + np.random.normal(scale=2, size=nte).reshape(nte,1) \n",
    "Xte = np.c_[np.repeat(1,xtr.shape[0]),xte] # データ行列"
   ]
  },
  {
   "cell_type": "markdown",
   "metadata": {
    "slideshow": {
     "slide_type": "slide"
    }
   },
   "source": [
    "## データプロット"
   ]
  },
  {
   "cell_type": "code",
   "execution_count": null,
   "metadata": {
    "slideshow": {
     "slide_type": "-"
    }
   },
   "outputs": [],
   "source": [
    "plt.scatter(xtr,ytr,  label=\"training data\")\n",
    "plt.scatter(xte,yte, label=\"test data\")\n",
    "plt.legend(); plt.show()"
   ]
  },
  {
   "cell_type": "markdown",
   "metadata": {
    "slideshow": {
     "slide_type": "slide"
    }
   },
   "source": [
    "## トレーニングデータ点上での密度比"
   ]
  },
  {
   "cell_type": "code",
   "execution_count": null,
   "metadata": {
    "slideshow": {
     "slide_type": "-"
    }
   },
   "outputs": [],
   "source": [
    "kdr = kernelDensityRatio(gamma=2)   # 密度比モデル設定：ガウスカーネルの幅 gamma =2\n",
    "kdr.fit(xtr,xte)            # 学習\n",
    "pr = kdr.predict(xtr)  #  xtr での密度比の予測"
   ]
  },
  {
   "cell_type": "markdown",
   "metadata": {
    "slideshow": {
     "slide_type": "slide"
    }
   },
   "source": [
    "## 重み付き最小２乗法で回帰パラメータを推定"
   ]
  },
  {
   "cell_type": "code",
   "execution_count": null,
   "metadata": {
    "slideshow": {
     "slide_type": "-"
    }
   },
   "outputs": [],
   "source": [
    "from sklearn import linear_model                                  # 線形モデルで推定\n",
    "\n",
    "# 重み付き最小２乗法\n",
    "cs = linear_model.LinearRegression()\n",
    "cs.fit(Xtr, ytr, sample_weight=pr)\n",
    "\n",
    "#　通常の最小２乗法\n",
    "ls = linear_model.LinearRegression()\n",
    "ls.fit(Xtr, ytr)"
   ]
  },
  {
   "cell_type": "markdown",
   "metadata": {
    "slideshow": {
     "slide_type": "slide"
    }
   },
   "source": [
    "## プロット：推定結果"
   ]
  },
  {
   "cell_type": "code",
   "execution_count": null,
   "metadata": {
    "slideshow": {
     "slide_type": "-"
    }
   },
   "outputs": [],
   "source": [
    "# 予測点のデータ行列\n",
    "tX = np.c_[np.repeat(1,100), np.linspace(np.min(xtr),np.max(xte),100)]\n",
    "py = cs.predict(tX); oy = ls.predict(tX)     # 回帰関数の値\n",
    "# プロット\n",
    "plt.scatter(xtr,ytr,  label=\"training data\")\n",
    "plt.scatter(xte,yte, label=\"test data\")\n",
    "plt.plot(tX[:,1],py,lw=4,c='red',label=\"weighted LS\")\n",
    "plt.plot(tX[:,1],oy,lw=4,c='green',label=\"OLS\")\n",
    "plt.legend(); plt.show()"
   ]
  },
  {
   "cell_type": "code",
   "execution_count": null,
   "metadata": {},
   "outputs": [],
   "source": []
  }
 ],
 "metadata": {
  "kernelspec": {
   "display_name": "Python 3",
   "language": "python",
   "name": "python3"
  },
  "language_info": {
   "codemirror_mode": {
    "name": "ipython",
    "version": 3
   },
   "file_extension": ".py",
   "mimetype": "text/x-python",
   "name": "python",
   "nbconvert_exporter": "python",
   "pygments_lexer": "ipython3",
   "version": "3.7.3"
  }
 },
 "nbformat": 4,
 "nbformat_minor": 2
}
