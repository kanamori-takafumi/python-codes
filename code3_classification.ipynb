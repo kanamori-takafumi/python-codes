{
 "cells": [
  {
   "cell_type": "markdown",
   "metadata": {
    "slideshow": {
     "slide_type": "slide"
    }
   },
   "source": [
    "# 判別分析"
   ]
  },
  {
   "cell_type": "markdown",
   "metadata": {
    "slideshow": {
     "slide_type": "slide"
    }
   },
   "source": [
    "## ライブラリなど読み込み"
   ]
  },
  {
   "cell_type": "code",
   "execution_count": null,
   "metadata": {
    "slideshow": {
     "slide_type": "fragment"
    }
   },
   "outputs": [],
   "source": [
    "import numpy as np               \n",
    "import matplotlib.pyplot as plt\n",
    "from common import mlbench as ml                      #  講習会のためのスクリプト\n",
    "from common.contourFittedClass import cplot    #  等高線プロットのためのスクリプト"
   ]
  },
  {
   "cell_type": "markdown",
   "metadata": {
    "slideshow": {
     "slide_type": "slide"
    }
   },
   "source": [
    "## サポートベクトルマシン(SVM)"
   ]
  },
  {
   "cell_type": "markdown",
   "metadata": {
    "slideshow": {
     "slide_type": "slide"
    }
   },
   "source": [
    "## データ生成     "
   ]
  },
  {
   "cell_type": "code",
   "execution_count": null,
   "metadata": {
    "slideshow": {
     "slide_type": "-"
    }
   },
   "outputs": [],
   "source": [
    "X,y = ml.twoDnormals(200, cl=2, sd=1)  # トレーニングデータ"
   ]
  },
  {
   "cell_type": "code",
   "execution_count": null,
   "metadata": {
    "slideshow": {
     "slide_type": "fragment"
    }
   },
   "outputs": [],
   "source": [
    "plt.scatter(X[y==0,0],X[y==0,1], c='red')\n",
    "plt.scatter(X[y==1,0],X[y==1,1], c='blue')\n",
    "plt.show()"
   ]
  },
  {
   "cell_type": "markdown",
   "metadata": {
    "slideshow": {
     "slide_type": "slide"
    }
   },
   "source": [
    "## サポートベクトルマシン\n",
    " sklearn.svm.SVC  "
   ]
  },
  {
   "cell_type": "code",
   "execution_count": null,
   "metadata": {
    "slideshow": {
     "slide_type": "subslide"
    }
   },
   "outputs": [],
   "source": [
    "from sklearn.svm import SVC                 #  モジュール読み込み"
   ]
  },
  {
   "cell_type": "code",
   "execution_count": null,
   "metadata": {
    "slideshow": {
     "slide_type": "fragment"
    }
   },
   "outputs": [],
   "source": [
    "sv = SVC(kernel=\"linear\", coef0=1)      #  線形判別モデル\n",
    "sv.fit(X,y)                                     # サポートベクトルマシンでデータを学習"
   ]
  },
  {
   "cell_type": "code",
   "execution_count": null,
   "metadata": {
    "slideshow": {
     "slide_type": "fragment"
    }
   },
   "outputs": [],
   "source": [
    "py = sv.predict(X)    # ラベル予測\n",
    "np.mean(py != y)     # トレーニング誤差"
   ]
  },
  {
   "cell_type": "code",
   "execution_count": null,
   "metadata": {
    "slideshow": {
     "slide_type": "fragment"
    }
   },
   "outputs": [],
   "source": [
    "1-sv.score(X,y)         # トレーニング誤差： score を使うこともできる"
   ]
  },
  {
   "cell_type": "code",
   "execution_count": null,
   "metadata": {
    "slideshow": {
     "slide_type": "subslide"
    }
   },
   "outputs": [],
   "source": [
    "# 設定パラメータの詳細\n",
    "sv.get_params()"
   ]
  },
  {
   "cell_type": "markdown",
   "metadata": {
    "slideshow": {
     "slide_type": "slide"
    }
   },
   "source": [
    "## 予測ラベル・テスト誤差"
   ]
  },
  {
   "cell_type": "code",
   "execution_count": null,
   "metadata": {
    "slideshow": {
     "slide_type": "fragment"
    }
   },
   "outputs": [],
   "source": [
    "tX,ty = ml.twoDnormals(1000, cl=2, sd=1)   # テストデータ  \n",
    "py = sv.predict(tX)     # 予測ラベル\n",
    "np.mean(py != ty)       # テスト誤差"
   ]
  },
  {
   "cell_type": "code",
   "execution_count": null,
   "metadata": {
    "slideshow": {
     "slide_type": "fragment"
    }
   },
   "outputs": [],
   "source": [
    "1-sv.score(tX,ty)        # テスト誤差"
   ]
  },
  {
   "cell_type": "markdown",
   "metadata": {
    "slideshow": {
     "slide_type": "subslide"
    }
   },
   "source": [
    "## プロット"
   ]
  },
  {
   "cell_type": "code",
   "execution_count": null,
   "metadata": {
    "slideshow": {
     "slide_type": "fragment"
    }
   },
   "outputs": [],
   "source": [
    "cplot(sv,X,y)"
   ]
  },
  {
   "cell_type": "markdown",
   "metadata": {
    "slideshow": {
     "slide_type": "slide"
    }
   },
   "source": [
    "## カーネルSVM\n",
    "- sklearn.svm.SVC\n",
    "- kernel オプション"
   ]
  },
  {
   "cell_type": "markdown",
   "metadata": {
    "slideshow": {
     "slide_type": "slide"
    }
   },
   "source": [
    "## データ"
   ]
  },
  {
   "cell_type": "code",
   "execution_count": null,
   "metadata": {
    "slideshow": {
     "slide_type": "-"
    }
   },
   "outputs": [],
   "source": [
    "X,y = ml.spirals(300, cycles=1,sd=0.15)         # トレーニングデータ\n",
    "tX,ty = ml.spirals(1000,cycles=1,sd=0.15)    # テストデータ"
   ]
  },
  {
   "cell_type": "code",
   "execution_count": null,
   "metadata": {
    "slideshow": {
     "slide_type": "fragment"
    }
   },
   "outputs": [],
   "source": [
    "# トレーニングデータのプロット\n",
    "plt.scatter(X[y==0,0],X[y==0,1], c='red')\n",
    "plt.scatter(X[y==1,0],X[y==1,1], c='blue')\n",
    "plt.show()"
   ]
  },
  {
   "cell_type": "markdown",
   "metadata": {
    "slideshow": {
     "slide_type": "slide"
    }
   },
   "source": [
    "## SVM：カーネルは2次多項式"
   ]
  },
  {
   "cell_type": "code",
   "execution_count": null,
   "metadata": {
    "slideshow": {
     "slide_type": "fragment"
    }
   },
   "outputs": [],
   "source": [
    "sv2 = SVC(kernel=\"poly\",degree=2, gamma=1, coef0=1).fit(X,y)  # 設定と学習"
   ]
  },
  {
   "cell_type": "code",
   "execution_count": null,
   "metadata": {
    "slideshow": {
     "slide_type": "fragment"
    }
   },
   "outputs": [],
   "source": [
    "# プロット：2次多項式カーネル\n",
    "print(\"テスト誤差：\", 1-sv2.score(tX,ty))\n",
    "cplot(sv2,X,y)"
   ]
  },
  {
   "cell_type": "markdown",
   "metadata": {
    "slideshow": {
     "slide_type": "slide"
    }
   },
   "source": [
    "## SVM：カーネルは3次多項式"
   ]
  },
  {
   "cell_type": "code",
   "execution_count": null,
   "metadata": {
    "slideshow": {
     "slide_type": "fragment"
    }
   },
   "outputs": [],
   "source": [
    "sv3 = SVC(kernel=\"poly\",degree=3,gamma=1,coef0=1).fit(X,y)   # 設定と学習"
   ]
  },
  {
   "cell_type": "code",
   "execution_count": null,
   "metadata": {
    "slideshow": {
     "slide_type": "fragment"
    }
   },
   "outputs": [],
   "source": [
    "# プロット：3次多項式カーネル\n",
    "print(\"テスト誤差：\", 1-sv3.score(tX,ty))\n",
    "cplot(sv3,X,y)"
   ]
  },
  {
   "cell_type": "markdown",
   "metadata": {
    "slideshow": {
     "slide_type": "slide"
    }
   },
   "source": [
    "## モデルパラメータの選択"
   ]
  },
  {
   "cell_type": "markdown",
   "metadata": {
    "slideshow": {
     "slide_type": "slide"
    }
   },
   "source": [
    "## 交差検証法\n",
    "sklearn.model_selection.cross_validate"
   ]
  },
  {
   "cell_type": "code",
   "execution_count": null,
   "metadata": {
    "slideshow": {
     "slide_type": "fragment"
    }
   },
   "outputs": [],
   "source": [
    "# モジュール読み込み\n",
    "from sklearn.model_selection import cross_validate "
   ]
  },
  {
   "cell_type": "markdown",
   "metadata": {
    "slideshow": {
     "slide_type": "slide"
    }
   },
   "source": [
    "## データ"
   ]
  },
  {
   "cell_type": "code",
   "execution_count": null,
   "metadata": {
    "slideshow": {
     "slide_type": "-"
    }
   },
   "outputs": [],
   "source": [
    "X,y    = ml.spirals(200,  cycles=1.2, sd=0.1)       # トレーニングデータ\n",
    "tX,ty = ml.spirals(1000,cycles=1.2, sd=0.1)     # テストデータ "
   ]
  },
  {
   "cell_type": "code",
   "execution_count": null,
   "metadata": {
    "slideshow": {
     "slide_type": "fragment"
    }
   },
   "outputs": [],
   "source": [
    "plt.scatter(X[y==0,0],X[y==0,1], c='red')\n",
    "plt.scatter(X[y==1,0],X[y==1,1], c='blue')\n",
    "plt.show()"
   ]
  },
  {
   "cell_type": "markdown",
   "metadata": {
    "slideshow": {
     "slide_type": "slide"
    }
   },
   "source": [
    "## 交差検証法"
   ]
  },
  {
   "cell_type": "code",
   "execution_count": null,
   "metadata": {
    "slideshow": {
     "slide_type": "-"
    }
   },
   "outputs": [],
   "source": [
    "sv = SVC(kernel=\"rbf\", gamma=10, C=1)           # ガウスカーネルのSVMモデルを設定"
   ]
  },
  {
   "cell_type": "code",
   "execution_count": null,
   "metadata": {
    "slideshow": {
     "slide_type": "fragment"
    }
   },
   "outputs": [],
   "source": [
    "cv = cross_validate(sv,X,y,scoring='accuracy',cv=5)   # 交差検証法：K=5\n",
    "1-cv['test_score']                                                             # 交差検証法の各ブロックごとの誤差"
   ]
  },
  {
   "cell_type": "code",
   "execution_count": null,
   "metadata": {
    "slideshow": {
     "slide_type": "fragment"
    }
   },
   "outputs": [],
   "source": [
    "1-np.mean(cv['test_score'])        # テスト誤差の推定値"
   ]
  },
  {
   "cell_type": "markdown",
   "metadata": {
    "slideshow": {
     "slide_type": "slide"
    }
   },
   "source": [
    "## ガウスカーネル：gamma の候補"
   ]
  },
  {
   "cell_type": "code",
   "execution_count": null,
   "metadata": {
    "slideshow": {
     "slide_type": "fragment"
    }
   },
   "outputs": [],
   "source": [
    "# ガウスカーネルのgammaの候補： データの間隔から候補を決める\n",
    "from scipy.spatial import distance\n",
    "dm = distance.pdist(X)                     # 距離行列の計算\n",
    "\n",
    "# 候補の値： データ間の距離のパーセント点\n",
    "cg = 1/np.percentile(dm,np.arange(1,100,2))**2 \n",
    "cg"
   ]
  },
  {
   "cell_type": "markdown",
   "metadata": {
    "slideshow": {
     "slide_type": "slide"
    }
   },
   "source": [
    "## 交差検証法：gamma の決定"
   ]
  },
  {
   "cell_type": "code",
   "execution_count": null,
   "metadata": {
    "slideshow": {
     "slide_type": "fragment"
    }
   },
   "outputs": [],
   "source": [
    "cvg = np.array([])\n",
    "for g in cg:                      # 各gammaごとに検証誤差を計算\n",
    "    sv = SVC(kernel=\"rbf\", gamma=g, C=1)\n",
    "    cv = cross_validate(sv,X,y,scoring='accuracy',cv=5)\n",
    "    cvg = np.r_[cvg, np.mean(cv['test_score'])]"
   ]
  },
  {
   "cell_type": "code",
   "execution_count": null,
   "metadata": {
    "slideshow": {
     "slide_type": "fragment"
    }
   },
   "outputs": [],
   "source": [
    "# 最適な  gamma の選択\n",
    "cverr = 1-cvg                                         # 検証誤差\n",
    "opt_gamma = cg[np.argmin(cverr)]  # 最適なgamma\n",
    "opt_gamma"
   ]
  },
  {
   "cell_type": "markdown",
   "metadata": {
    "slideshow": {
     "slide_type": "slide"
    }
   },
   "source": [
    "## 最適な gamma "
   ]
  },
  {
   "cell_type": "code",
   "execution_count": null,
   "metadata": {
    "slideshow": {
     "slide_type": "fragment"
    }
   },
   "outputs": [],
   "source": [
    "sv = SVC(kernel=\"rbf\",C=1,gamma=opt_gamma)\n",
    "sv.fit(X,y)           #  学習\n",
    "print('テスト誤差: ', 1-sv.score(tX,ty))\n",
    "cplot(sv,X,y)"
   ]
  },
  {
   "cell_type": "markdown",
   "metadata": {
    "slideshow": {
     "slide_type": "slide"
    }
   },
   "source": [
    "## 小さい gamma "
   ]
  },
  {
   "cell_type": "code",
   "execution_count": null,
   "metadata": {
    "slideshow": {
     "slide_type": "fragment"
    }
   },
   "outputs": [],
   "source": [
    "sv = SVC(kernel=\"rbf\",C=1,gamma=cg.min())\n",
    "sv.fit(X,y)                     # 学習\n",
    "print(\"テスト誤差: \", 1-sv.score(tX,ty))            \n",
    "cplot(sv,X,y)"
   ]
  },
  {
   "cell_type": "markdown",
   "metadata": {
    "slideshow": {
     "slide_type": "slide"
    }
   },
   "source": [
    "## 大きい gamma"
   ]
  },
  {
   "cell_type": "code",
   "execution_count": null,
   "metadata": {
    "slideshow": {
     "slide_type": "fragment"
    }
   },
   "outputs": [],
   "source": [
    "sv = SVC(kernel=\"rbf\",C=1,gamma=cg.max())\n",
    "sv.fit(X,y)             # 学習\n",
    "print('テスト誤差: ',1-sv.score(tX,ty))          \n",
    "cplot(sv,X,y)"
   ]
  }
 ],
 "metadata": {
  "kernelspec": {
   "display_name": "Python 3",
   "language": "python",
   "name": "python3"
  },
  "language_info": {
   "codemirror_mode": {
    "name": "ipython",
    "version": 3
   },
   "file_extension": ".py",
   "mimetype": "text/x-python",
   "name": "python",
   "nbconvert_exporter": "python",
   "pygments_lexer": "ipython3",
   "version": "3.7.3"
  }
 },
 "nbformat": 4,
 "nbformat_minor": 2
}
