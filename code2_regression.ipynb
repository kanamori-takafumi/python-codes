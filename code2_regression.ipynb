{
 "cells": [
  {
   "cell_type": "markdown",
   "metadata": {
    "slideshow": {
     "slide_type": "slide"
    }
   },
   "source": [
    "\n",
    "# 回帰分析"
   ]
  },
  {
   "cell_type": "markdown",
   "metadata": {
    "slideshow": {
     "slide_type": "slide"
    }
   },
   "source": [
    "## ライブラリなど読み込み"
   ]
  },
  {
   "cell_type": "code",
   "execution_count": null,
   "metadata": {
    "slideshow": {
     "slide_type": "-"
    }
   },
   "outputs": [],
   "source": [
    "import numpy as np               \n",
    "import matplotlib.pyplot as plt  \n",
    "import pandas as pd"
   ]
  },
  {
   "cell_type": "markdown",
   "metadata": {
    "slideshow": {
     "slide_type": "slide"
    }
   },
   "source": [
    "## Data: Income vs Life.Expectancy (2018)"
   ]
  },
  {
   "cell_type": "code",
   "execution_count": null,
   "metadata": {
    "slideshow": {
     "slide_type": "-"
    }
   },
   "outputs": [],
   "source": [
    "# データ読み込み\n",
    "dat = np.array(pd.read_csv('data/factfulness.csv').values[:,1:3]).astype('float64')\n",
    "X = dat[:,0].reshape(-1,1) # データ行列\n",
    "y = dat[:,1]                          # 観測ベクトル"
   ]
  },
  {
   "cell_type": "code",
   "execution_count": null,
   "metadata": {},
   "outputs": [],
   "source": [
    "X"
   ]
  },
  {
   "cell_type": "markdown",
   "metadata": {
    "slideshow": {
     "slide_type": "subslide"
    }
   },
   "source": [
    "## データプロット"
   ]
  },
  {
   "cell_type": "code",
   "execution_count": null,
   "metadata": {
    "slideshow": {
     "slide_type": "-"
    }
   },
   "outputs": [],
   "source": [
    "plt.xlabel('Income'); plt.ylabel(\"Life Expectancy\")\n",
    "plt.xlim(np.min(X), np.max(X))\n",
    "plt.xscale(\"log\")      # x軸をlog プロット\n",
    "plt.scatter(X, y, s=10, c='blue')       # データ点のプロット\n",
    "plt.show()"
   ]
  },
  {
   "cell_type": "markdown",
   "metadata": {
    "slideshow": {
     "slide_type": "slide"
    }
   },
   "source": [
    "## 最小2乗法による推定：\n",
    "sklearn.linear_model.LinearRegression"
   ]
  },
  {
   "cell_type": "code",
   "execution_count": null,
   "metadata": {
    "slideshow": {
     "slide_type": "-"
    }
   },
   "outputs": [],
   "source": [
    "# モジュール読込み\n",
    "from sklearn import linear_model\n",
    "\n",
    "lf = linear_model.LinearRegression()     # 線形モデルの設定\n",
    "lf.fit(np.log(X), y)                                     # 最小２乗法： 対数をとったデータに適用\n",
    "np.array([lf.intercept_,  lf.coef_])         # 切片， 傾き"
   ]
  },
  {
   "cell_type": "markdown",
   "metadata": {
    "slideshow": {
     "slide_type": "slide"
    }
   },
   "source": [
    "## 予測値の計算"
   ]
  },
  {
   "cell_type": "code",
   "execution_count": null,
   "metadata": {
    "slideshow": {
     "slide_type": "-"
    }
   },
   "outputs": [],
   "source": [
    "Xt = np.linspace(np.min(X),np.max(X),100).reshape(-1,1) # テスト点の生成\n",
    "py = lf.predict(np.log(Xt))   # 予測値"
   ]
  },
  {
   "cell_type": "markdown",
   "metadata": {
    "slideshow": {
     "slide_type": "slide"
    }
   },
   "source": [
    "## プロット：推定結果"
   ]
  },
  {
   "cell_type": "code",
   "execution_count": null,
   "metadata": {
    "slideshow": {
     "slide_type": "-"
    }
   },
   "outputs": [],
   "source": [
    "plt.xlabel('Income'); plt.ylabel(\"Life Expectancy\")\n",
    "plt.xlim(np.min(X), np.max(X))\n",
    "plt.xscale(\"log\")                                # log プロット\n",
    "plt.scatter(X, y, s=10, c='blue')      # データ点のプロット\n",
    "plt.plot(Xt, py,'r-',lw=3)                   # 予測値のプロット\n",
    "plt.show()"
   ]
  },
  {
   "cell_type": "markdown",
   "metadata": {
    "slideshow": {
     "slide_type": "slide"
    }
   },
   "source": [
    "## リッジ回帰"
   ]
  },
  {
   "cell_type": "markdown",
   "metadata": {
    "slideshow": {
     "slide_type": "slide"
    }
   },
   "source": [
    "## データ"
   ]
  },
  {
   "cell_type": "code",
   "execution_count": null,
   "metadata": {
    "slideshow": {
     "slide_type": "-"
    }
   },
   "outputs": [],
   "source": [
    "n = 100            # データ数\n",
    "x = np.random.uniform(-2,2,n); ord = np.argsort(x)\n",
    "y = np.sin(2*np.pi*x)/x + np.random.normal(scale=0.5,size=n)"
   ]
  },
  {
   "cell_type": "markdown",
   "metadata": {
    "slideshow": {
     "slide_type": "slide"
    }
   },
   "source": [
    "## プロット"
   ]
  },
  {
   "cell_type": "code",
   "execution_count": null,
   "metadata": {
    "slideshow": {
     "slide_type": "-"
    }
   },
   "outputs": [],
   "source": [
    "plt.scatter(x, y,c='blue',s=10)            # データ点プロット\n",
    "plt.show()"
   ]
  },
  {
   "cell_type": "markdown",
   "metadata": {
    "slideshow": {
     "slide_type": "slide"
    }
   },
   "source": [
    "## 線形回帰モデル：多項式回帰"
   ]
  },
  {
   "cell_type": "code",
   "execution_count": null,
   "metadata": {
    "slideshow": {
     "slide_type": "-"
    }
   },
   "outputs": [],
   "source": [
    "# データ行列\n",
    "degree = 10\n",
    "X = np.power.outer(x,np.arange(1,degree+1))  #  基底関数：多項式\n",
    "X.shape"
   ]
  },
  {
   "cell_type": "markdown",
   "metadata": {
    "slideshow": {
     "slide_type": "slide"
    }
   },
   "source": [
    "## リッジ回帰：\n",
    "sklearn.linear_model.Ridge"
   ]
  },
  {
   "cell_type": "code",
   "execution_count": null,
   "metadata": {
    "slideshow": {
     "slide_type": "subslide"
    }
   },
   "outputs": [],
   "source": [
    "# モジュール読込み\n",
    "from sklearn import linear_model\n",
    "rfit = linear_model.Ridge(alpha=0.1).fit(X,y)       # リッジ回帰(alpha = 0.1)"
   ]
  },
  {
   "cell_type": "code",
   "execution_count": null,
   "metadata": {
    "slideshow": {
     "slide_type": "fragment"
    }
   },
   "outputs": [],
   "source": [
    "rfit.intercept_   # 切片 w0 "
   ]
  },
  {
   "cell_type": "code",
   "execution_count": null,
   "metadata": {
    "slideshow": {
     "slide_type": "fragment"
    }
   },
   "outputs": [],
   "source": [
    "rfit.coef_           # 係数 w1"
   ]
  },
  {
   "cell_type": "markdown",
   "metadata": {
    "slideshow": {
     "slide_type": "slide"
    }
   },
   "source": [
    "## 予測"
   ]
  },
  {
   "cell_type": "code",
   "execution_count": null,
   "metadata": {
    "slideshow": {
     "slide_type": "-"
    }
   },
   "outputs": [],
   "source": [
    "tx = np.linspace(-1.8, 1.8, 100)                               # テスト点\n",
    "tX = np.power.outer(tx,np.arange(1,degree+1))   # テスト点に対応するデータ行列"
   ]
  },
  {
   "cell_type": "code",
   "execution_count": null,
   "metadata": {
    "slideshow": {
     "slide_type": "-"
    }
   },
   "outputs": [],
   "source": [
    "# 予測\n",
    "py = rfit.predict(tX)"
   ]
  },
  {
   "cell_type": "markdown",
   "metadata": {
    "slideshow": {
     "slide_type": "slide"
    }
   },
   "source": [
    "## プロット"
   ]
  },
  {
   "cell_type": "code",
   "execution_count": null,
   "metadata": {
    "slideshow": {
     "slide_type": "-"
    }
   },
   "outputs": [],
   "source": [
    "plt.scatter(x,y,c='blue',s=10)          # データ点のプロット\n",
    "plt.plot(tx,py)\n",
    "plt.show()"
   ]
  },
  {
   "cell_type": "markdown",
   "metadata": {
    "slideshow": {
     "slide_type": "slide"
    }
   },
   "source": [
    "## プロット：正則化パラメータ alpha ごとの結果"
   ]
  },
  {
   "cell_type": "code",
   "execution_count": null,
   "metadata": {
    "scrolled": true,
    "slideshow": {
     "slide_type": "subslide"
    }
   },
   "outputs": [],
   "source": [
    "a  = np.array([0, 2**(-6), 1, 2**6])      # 正則化パラメータの候補\n",
    "ls = ['-', '--', '-.', ':']                                  # プロットのラインスタイル\n",
    "for i in np.arange(a.size):\n",
    "    rfit = linear_model.Ridge(alpha=a[i]).fit(X,y)       # リッジ回帰\n",
    "    py = rfit.predict(tX)\n",
    "    # alpha 毎に，リッジ回帰の結果をプロット  \n",
    "    plt.plot(tx,py,label=\"alpha: \"+str(round(a[i], 3)), ls=ls[i], lw=2)\n",
    "plt.scatter(x,y,c='black',s=10)              # データ点プロット\n",
    "plt.legend();plt.show()"
   ]
  },
  {
   "cell_type": "markdown",
   "metadata": {
    "slideshow": {
     "slide_type": "slide"
    }
   },
   "source": [
    "## 交差検証法"
   ]
  },
  {
   "cell_type": "markdown",
   "metadata": {
    "slideshow": {
     "slide_type": "slide"
    }
   },
   "source": [
    "## データ"
   ]
  },
  {
   "cell_type": "code",
   "execution_count": null,
   "metadata": {
    "slideshow": {
     "slide_type": "-"
    }
   },
   "outputs": [],
   "source": [
    "n = 100            # データ数\n",
    "x = np.random.uniform(-2,2,n); ord = np.argsort(x)\n",
    "y = np.sin(2*np.pi*x)/x + np.random.normal(scale=0.5,size=n)"
   ]
  },
  {
   "cell_type": "code",
   "execution_count": null,
   "metadata": {
    "slideshow": {
     "slide_type": "fragment"
    }
   },
   "outputs": [],
   "source": [
    "plt.scatter(x,y); plt.show()"
   ]
  },
  {
   "cell_type": "markdown",
   "metadata": {
    "slideshow": {
     "slide_type": "slide"
    }
   },
   "source": [
    "## いろいろな正則化パラメータでリッジ回帰"
   ]
  },
  {
   "cell_type": "code",
   "execution_count": null,
   "metadata": {
    "slideshow": {
     "slide_type": "subslide"
    }
   },
   "outputs": [],
   "source": [
    "degree = 15     # 15次多項式モデルを使う\n",
    "X = np.power.outer(x,np.arange(1,degree+1))  #  基底関数：多項式\n",
    "\n",
    "alphas  = 10.**np.arange(-13,5)        # 正則化パラメータの候補\n",
    "alphas"
   ]
  },
  {
   "cell_type": "code",
   "execution_count": null,
   "metadata": {
    "slideshow": {
     "slide_type": "subslide"
    }
   },
   "outputs": [],
   "source": [
    "for a in alphas:\n",
    "    rd = linear_model.Ridge(alpha=a).fit(X,y)       # リッジ回帰\n",
    "    py = rd.predict(X)\n",
    "    # alpha 毎に，リッジ回帰の結果をプロット  \n",
    "    plt.plot(np.sort(x), py[ord], ls='-', lw=2)\n",
    "plt.scatter(x, y, c='black', s=10)\n",
    "plt.show()"
   ]
  },
  {
   "cell_type": "markdown",
   "metadata": {
    "slideshow": {
     "slide_type": "slide"
    }
   },
   "source": [
    "## 交差検証法：\n",
    "sklearn.linear_model.RidgeCV"
   ]
  },
  {
   "cell_type": "code",
   "execution_count": null,
   "metadata": {
    "slideshow": {
     "slide_type": "fragment"
    }
   },
   "outputs": [],
   "source": [
    "print('alphas: ',alphas)"
   ]
  },
  {
   "cell_type": "code",
   "execution_count": null,
   "metadata": {
    "slideshow": {
     "slide_type": "fragment"
    }
   },
   "outputs": [],
   "source": [
    "cvf = linear_model.RidgeCV(cv=10, alphas=alphas)  # モデル設定：リッジ回帰の交差検証法\n",
    "cvf.fit(X,y)       # 学習"
   ]
  },
  {
   "cell_type": "code",
   "execution_count": null,
   "metadata": {
    "slideshow": {
     "slide_type": "fragment"
    }
   },
   "outputs": [],
   "source": [
    "# 最適な alpha (候補：10^(-13),...,10^4)\n",
    "cvf.alpha_"
   ]
  },
  {
   "cell_type": "markdown",
   "metadata": {
    "slideshow": {
     "slide_type": "slide"
    }
   },
   "source": [
    "## 最適な alpha によるリッジ回帰"
   ]
  },
  {
   "cell_type": "code",
   "execution_count": null,
   "metadata": {
    "slideshow": {
     "slide_type": "fragment"
    }
   },
   "outputs": [],
   "source": [
    "tx = np.linspace(-2,2, 100)                                       # テスト点\n",
    "tX = np.power.outer(tx,np.arange(1,degree+1))   # テスト点に対応するデータ行列\n",
    "py = cvf.predict(tX)          # 予測\n",
    "plt.plot(tx,py,label=\"optimal alpha\", ls='-', lw=2)\n",
    "plt.scatter(x,y,c='black',s=10)              # データ点プロット\n",
    "plt.legend(); plt.show()"
   ]
  },
  {
   "cell_type": "code",
   "execution_count": null,
   "metadata": {},
   "outputs": [],
   "source": []
  }
 ],
 "metadata": {
  "kernelspec": {
   "display_name": "Python 3",
   "language": "python",
   "name": "python3"
  },
  "language_info": {
   "codemirror_mode": {
    "name": "ipython",
    "version": 3
   },
   "file_extension": ".py",
   "mimetype": "text/x-python",
   "name": "python",
   "nbconvert_exporter": "python",
   "pygments_lexer": "ipython3",
   "version": "3.7.3"
  }
 },
 "nbformat": 4,
 "nbformat_minor": 2
}
