{
 "cells": [
  {
   "cell_type": "markdown",
   "metadata": {
    "slideshow": {
     "slide_type": "slide"
    }
   },
   "source": [
    "\n",
    "# 回帰分析"
   ]
  },
  {
   "cell_type": "markdown",
   "metadata": {
    "slideshow": {
     "slide_type": "slide"
    }
   },
   "source": [
    "## ライブラリなど読み込み"
   ]
  },
  {
   "cell_type": "code",
   "execution_count": 65,
   "metadata": {
    "slideshow": {
     "slide_type": "-"
    }
   },
   "outputs": [],
   "source": [
    "import numpy as np               \n",
    "import matplotlib.pyplot as plt  \n",
    "import pandas as pd"
   ]
  },
  {
   "cell_type": "markdown",
   "metadata": {
    "slideshow": {
     "slide_type": "slide"
    }
   },
   "source": [
    "## Data: Income vs Life.Expectancy (2018)"
   ]
  },
  {
   "cell_type": "code",
   "execution_count": 66,
   "metadata": {
    "slideshow": {
     "slide_type": "-"
    }
   },
   "outputs": [],
   "source": [
    "# データ読み込み\n",
    "dat = np.array(pd.read_csv('data/factfulness.csv').values[:,1:3]).astype('float64')\n",
    "X = dat[:,0].reshape(-1,1) # データ行列\n",
    "y = dat[:,1]                          # 観測ベクトル"
   ]
  },
  {
   "cell_type": "code",
   "execution_count": 67,
   "metadata": {},
   "outputs": [
    {
     "data": {
      "text/plain": [
       "array([[  1870.],\n",
       "       [ 12400.],\n",
       "       [ 13700.],\n",
       "       [  5850.],\n",
       "       [ 21000.],\n",
       "       [ 18900.],\n",
       "       [  8660.],\n",
       "       [ 45800.],\n",
       "       [ 44600.],\n",
       "       [ 16600.],\n",
       "       [ 21900.],\n",
       "       [ 44300.],\n",
       "       [  3720.],\n",
       "       [ 16000.],\n",
       "       [ 17200.],\n",
       "       [ 42800.],\n",
       "       [  7710.],\n",
       "       [  2170.],\n",
       "       [  9930.],\n",
       "       [  6980.],\n",
       "       [ 12100.],\n",
       "       [ 16500.],\n",
       "       [ 14300.],\n",
       "       [ 76900.],\n",
       "       [ 18900.],\n",
       "       [  1710.],\n",
       "       [   691.],\n",
       "       [  3830.],\n",
       "       [  3170.],\n",
       "       [ 43800.],\n",
       "       [  6420.],\n",
       "       [   689.],\n",
       "       [  1860.],\n",
       "       [ 23400.],\n",
       "       [ 16000.],\n",
       "       [ 13700.],\n",
       "       [  1440.],\n",
       "       [   751.],\n",
       "       [  5620.],\n",
       "       [ 16200.],\n",
       "       [  3760.],\n",
       "       [ 22600.],\n",
       "       [ 20000.],\n",
       "       [ 32200.],\n",
       "       [ 32300.],\n",
       "       [ 46600.],\n",
       "       [  3540.],\n",
       "       [ 15200.],\n",
       "       [ 10200.],\n",
       "       [ 10800.],\n",
       "       [  8290.],\n",
       "       [ 20500.],\n",
       "       [  1250.],\n",
       "       [ 29500.],\n",
       "       [  1800.],\n",
       "       [  9420.],\n",
       "       [ 40300.],\n",
       "       [ 39000.],\n",
       "       [ 17500.],\n",
       "       [  1570.],\n",
       "       [ 10100.],\n",
       "       [ 45200.],\n",
       "       [  4380.],\n",
       "       [ 25500.],\n",
       "       [ 13500.],\n",
       "       [  7530.],\n",
       "       [  1280.],\n",
       "       [  1550.],\n",
       "       [  7740.],\n",
       "       [  1710.],\n",
       "       [  4590.],\n",
       "       [ 26900.],\n",
       "       [ 47400.],\n",
       "       [  6890.],\n",
       "       [ 11700.],\n",
       "       [ 17400.],\n",
       "       [ 15900.],\n",
       "       [ 65600.],\n",
       "       [ 33400.],\n",
       "       [ 35200.],\n",
       "       [  8520.],\n",
       "       [ 39100.],\n",
       "       [  8450.],\n",
       "       [ 24200.],\n",
       "       [  3110.],\n",
       "       [  1890.],\n",
       "       [ 68400.],\n",
       "       [  3490.],\n",
       "       [  6310.],\n",
       "       [ 25500.],\n",
       "       [ 13400.],\n",
       "       [  2960.],\n",
       "       [   801.],\n",
       "       [ 18300.],\n",
       "       [ 30400.],\n",
       "       [ 99000.],\n",
       "       [ 14000.],\n",
       "       [  1460.],\n",
       "       [  1130.],\n",
       "       [ 27200.],\n",
       "       [ 13000.],\n",
       "       [  2020.],\n",
       "       [ 37900.],\n",
       "       [  3670.],\n",
       "       [ 21000.],\n",
       "       [ 17300.],\n",
       "       [  3410.],\n",
       "       [  5330.],\n",
       "       [ 12100.],\n",
       "       [ 16600.],\n",
       "       [  7720.],\n",
       "       [  1200.],\n",
       "       [  6100.],\n",
       "       [ 10500.],\n",
       "       [  2420.],\n",
       "       [ 48500.],\n",
       "       [ 36400.],\n",
       "       [  5470.],\n",
       "       [   949.],\n",
       "       [  5570.],\n",
       "       [  1390.],\n",
       "       [ 64800.],\n",
       "       [ 38900.],\n",
       "       [  5220.],\n",
       "       [  2700.],\n",
       "       [ 23400.],\n",
       "       [  2800.],\n",
       "       [  9280.],\n",
       "       [ 12700.],\n",
       "       [  7960.],\n",
       "       [ 27700.],\n",
       "       [ 27900.],\n",
       "       [121000.],\n",
       "       [ 23400.],\n",
       "       [ 24800.],\n",
       "       [  1930.],\n",
       "       [  5950.],\n",
       "       [  3190.],\n",
       "       [ 50100.],\n",
       "       [  2570.],\n",
       "       [ 14800.],\n",
       "       [ 27500.],\n",
       "       [  1490.],\n",
       "       [ 83900.],\n",
       "       [ 31400.],\n",
       "       [ 30900.],\n",
       "       [  2110.],\n",
       "       [   629.],\n",
       "       [ 12300.],\n",
       "       [ 36800.],\n",
       "       [  1820.],\n",
       "       [ 34700.],\n",
       "       [ 12400.],\n",
       "       [ 10900.],\n",
       "       [ 11400.],\n",
       "       [  4440.],\n",
       "       [ 13200.],\n",
       "       [  7600.],\n",
       "       [ 47500.],\n",
       "       [ 57100.],\n",
       "       [  2900.],\n",
       "       [  2920.],\n",
       "       [  2780.],\n",
       "       [ 16900.],\n",
       "       [  1490.],\n",
       "       [  1480.],\n",
       "       [  5500.],\n",
       "       [ 30300.],\n",
       "       [ 11600.],\n",
       "       [ 24900.],\n",
       "       [ 17900.],\n",
       "       [  1820.],\n",
       "       [  8330.],\n",
       "       [ 68200.],\n",
       "       [ 40100.],\n",
       "       [ 54900.],\n",
       "       [ 21300.],\n",
       "       [  6690.],\n",
       "       [  2900.],\n",
       "       [ 14200.],\n",
       "       [  6550.],\n",
       "       [  2430.],\n",
       "       [  3870.],\n",
       "       [  1950.]])"
      ]
     },
     "execution_count": 67,
     "metadata": {},
     "output_type": "execute_result"
    }
   ],
   "source": [
    "X"
   ]
  },
  {
   "cell_type": "markdown",
   "metadata": {
    "slideshow": {
     "slide_type": "subslide"
    }
   },
   "source": [
    "## データプロット"
   ]
  },
  {
   "cell_type": "code",
   "execution_count": 68,
   "metadata": {
    "slideshow": {
     "slide_type": "-"
    }
   },
   "outputs": [
    {
     "data": {
      "image/png": "[encoded data removed]",
      "text/plain": [
       "<Figure size 432x288 with 1 Axes>"
      ]
     },
     "metadata": {
      "needs_background": "light"
     },
     "output_type": "display_data"
    }
   ],
   "source": [
    "plt.xlabel('Income'); plt.ylabel(\"Life Expectancy\")\n",
    "plt.xlim(np.min(X), np.max(X))\n",
    "plt.xscale(\"log\")      # x軸をlog プロット\n",
    "plt.scatter(X, y, s=10, c='blue')       # データ点のプロット\n",
    "plt.show()"
   ]
  },
  {
   "cell_type": "markdown",
   "metadata": {
    "slideshow": {
     "slide_type": "slide"
    }
   },
   "source": [
    "## 最小2乗法による推定：\n",
    "sklearn.linear_model.LinearRegression"
   ]
  },
  {
   "cell_type": "code",
   "execution_count": 69,
   "metadata": {
    "slideshow": {
     "slide_type": "-"
    }
   },
   "outputs": [
    {
     "data": {
      "text/plain": [
       "array([27.451416054831242, array([4.92938809])], dtype=object)"
      ]
     },
     "execution_count": 69,
     "metadata": {},
     "output_type": "execute_result"
    }
   ],
   "source": [
    "# モジュール読込み\n",
    "from sklearn import linear_model\n",
    "\n",
    "lf = linear_model.LinearRegression()     # 線形モデルの設定\n",
    "lf.fit(np.log(X), y)                                     # 最小２乗法： 対数をとったデータに適用\n",
    "np.array([lf.intercept_,  lf.coef_])         # 切片， 傾き"
   ]
  },
  {
   "cell_type": "markdown",
   "metadata": {
    "slideshow": {
     "slide_type": "slide"
    }
   },
   "source": [
    "## 予測値の計算"
   ]
  },
  {
   "cell_type": "code",
   "execution_count": 70,
   "metadata": {
    "slideshow": {
     "slide_type": "-"
    }
   },
   "outputs": [],
   "source": [
    "Xt = np.linspace(np.min(X),np.max(X),100).reshape(-1,1) # テスト点の生成\n",
    "py = lf.predict(np.log(Xt))   # 予測値"
   ]
  },
  {
   "cell_type": "markdown",
   "metadata": {
    "slideshow": {
     "slide_type": "slide"
    }
   },
   "source": [
    "## プロット：推定結果"
   ]
  },
  {
   "cell_type": "code",
   "execution_count": 71,
   "metadata": {
    "slideshow": {
     "slide_type": "-"
    }
   },
   "outputs": [
    {
     "data": {
      "image/png": "[encoded data removed]",
      "text/plain": [
       "<Figure size 432x288 with 1 Axes>"
      ]
     },
     "metadata": {
      "needs_background": "light"
     },
     "output_type": "display_data"
    }
   ],
   "source": [
    "plt.xlabel('Income'); plt.ylabel(\"Life Expectancy\")\n",
    "plt.xlim(np.min(X), np.max(X))\n",
    "plt.xscale(\"log\")                                # log プロット\n",
    "plt.scatter(X, y, s=10, c='blue')      # データ点のプロット\n",
    "plt.plot(Xt, py,'r-',lw=3)                   # 予測値のプロット\n",
    "plt.show()"
   ]
  },
  {
   "cell_type": "markdown",
   "metadata": {
    "slideshow": {
     "slide_type": "slide"
    }
   },
   "source": [
    "## リッジ回帰"
   ]
  },
  {
   "cell_type": "markdown",
   "metadata": {
    "slideshow": {
     "slide_type": "slide"
    }
   },
   "source": [
    "## データ"
   ]
  },
  {
   "cell_type": "code",
   "execution_count": 72,
   "metadata": {
    "slideshow": {
     "slide_type": "-"
    }
   },
   "outputs": [],
   "source": [
    "n = 100            # データ数\n",
    "x = np.random.uniform(-2,2,n); ord = np.argsort(x)\n",
    "y = np.sin(2*np.pi*x)/x + np.random.normal(scale=0.5,size=n)"
   ]
  },
  {
   "cell_type": "markdown",
   "metadata": {
    "slideshow": {
     "slide_type": "slide"
    }
   },
   "source": [
    "## プロット"
   ]
  },
  {
   "cell_type": "code",
   "execution_count": 73,
   "metadata": {
    "slideshow": {
     "slide_type": "-"
    }
   },
   "outputs": [
    {
     "data": {
      "image/png": "[encoded data removed]",
      "text/plain": [
       "<Figure size 432x288 with 1 Axes>"
      ]
     },
     "metadata": {
      "needs_background": "light"
     },
     "output_type": "display_data"
    }
   ],
   "source": [
    "plt.scatter(x, y,c='blue',s=10)            # データ点プロット\n",
    "plt.show()"
   ]
  },
  {
   "cell_type": "markdown",
   "metadata": {
    "slideshow": {
     "slide_type": "slide"
    }
   },
   "source": [
    "## 線形回帰モデル：多項式回帰"
   ]
  },
  {
   "cell_type": "code",
   "execution_count": 74,
   "metadata": {
    "slideshow": {
     "slide_type": "-"
    }
   },
   "outputs": [
    {
     "data": {
      "text/plain": [
       "(100, 10)"
      ]
     },
     "execution_count": 74,
     "metadata": {},
     "output_type": "execute_result"
    }
   ],
   "source": [
    "# データ行列\n",
    "degree = 10\n",
    "X = np.power.outer(x,np.arange(1,degree+1))  #  基底関数：多項式\n",
    "X.shape"
   ]
  },
  {
   "cell_type": "markdown",
   "metadata": {
    "slideshow": {
     "slide_type": "slide"
    }
   },
   "source": [
    "## リッジ回帰：\n",
    "sklearn.linear_model.Ridge"
   ]
  },
  {
   "cell_type": "code",
   "execution_count": 75,
   "metadata": {
    "slideshow": {
     "slide_type": "subslide"
    }
   },
   "outputs": [],
   "source": [
    "# モジュール読込み\n",
    "from sklearn import linear_model\n",
    "rfit = linear_model.Ridge(alpha=0.1).fit(X,y)       # リッジ回帰(alpha = 0.1)"
   ]
  },
  {
   "cell_type": "code",
   "execution_count": 76,
   "metadata": {
    "slideshow": {
     "slide_type": "fragment"
    }
   },
   "outputs": [
    {
     "data": {
      "text/plain": [
       "4.757212928511364"
      ]
     },
     "execution_count": 76,
     "metadata": {},
     "output_type": "execute_result"
    }
   ],
   "source": [
    "rfit.intercept_   # 切片 w0 "
   ]
  },
  {
   "cell_type": "code",
   "execution_count": 77,
   "metadata": {
    "slideshow": {
     "slide_type": "fragment"
    }
   },
   "outputs": [
    {
     "data": {
      "text/plain": [
       "array([  0.62196169, -15.55939278,  -1.31139827,  13.58875334,\n",
       "         0.84959861,  -3.4973826 ,  -0.22077129,  -0.14272115,\n",
       "         0.01952316,   0.10236702])"
      ]
     },
     "execution_count": 77,
     "metadata": {},
     "output_type": "execute_result"
    }
   ],
   "source": [
    "rfit.coef_           # 係数 w1"
   ]
  },
  {
   "cell_type": "markdown",
   "metadata": {
    "slideshow": {
     "slide_type": "slide"
    }
   },
   "source": [
    "## 予測"
   ]
  },
  {
   "cell_type": "code",
   "execution_count": 78,
   "metadata": {
    "slideshow": {
     "slide_type": "-"
    }
   },
   "outputs": [],
   "source": [
    "tx = np.linspace(-1.8, 1.8, 100)                               # テスト点\n",
    "tX = np.power.outer(tx,np.arange(1,degree+1))   # テスト点に対応するデータ行列"
   ]
  },
  {
   "cell_type": "code",
   "execution_count": 79,
   "metadata": {
    "slideshow": {
     "slide_type": "-"
    }
   },
   "outputs": [],
   "source": [
    "# 予測\n",
    "py = rfit.predict(tX)"
   ]
  },
  {
   "cell_type": "markdown",
   "metadata": {
    "slideshow": {
     "slide_type": "slide"
    }
   },
   "source": [
    "## プロット"
   ]
  },
  {
   "cell_type": "code",
   "execution_count": 80,
   "metadata": {
    "slideshow": {
     "slide_type": "-"
    }
   },
   "outputs": [
    {
     "data": {
      "image/png": "[encoded data removed]",
      "text/plain": [
       "<Figure size 432x288 with 1 Axes>"
      ]
     },
     "metadata": {
      "needs_background": "light"
     },
     "output_type": "display_data"
    }
   ],
   "source": [
    "plt.scatter(x,y,c='blue',s=10)          # データ点のプロット\n",
    "plt.plot(tx,py)\n",
    "plt.show()"
   ]
  },
  {
   "cell_type": "markdown",
   "metadata": {
    "slideshow": {
     "slide_type": "slide"
    }
   },
   "source": [
    "## プロット：正則化パラメータ alpha ごとの結果"
   ]
  },
  {
   "cell_type": "code",
   "execution_count": 81,
   "metadata": {
    "scrolled": true,
    "slideshow": {
     "slide_type": "subslide"
    }
   },
   "outputs": [
    {
     "data": {
      "image/png": "[encoded data removed]",
      "text/plain": [
       "<Figure size 432x288 with 1 Axes>"
      ]
     },
     "metadata": {
      "needs_background": "light"
     },
     "output_type": "display_data"
    }
   ],
   "source": [
    "a  = np.array([0, 2**(-6), 1, 2**6])      # 正則化パラメータの候補\n",
    "ls = ['-', '--', '-.', ':']                                  # プロットのラインスタイル\n",
    "for i in np.arange(a.size):\n",
    "    rfit = linear_model.Ridge(alpha=a[i]).fit(X,y)       # リッジ回帰\n",
    "    py = rfit.predict(tX)\n",
    "    # alpha 毎に，リッジ回帰の結果をプロット  \n",
    "    plt.plot(tx,py,label=\"alpha: \"+str(round(a[i], 3)), ls=ls[i], lw=2)\n",
    "plt.scatter(x,y,c='black',s=10)              # データ点プロット\n",
    "plt.legend();plt.show()"
   ]
  },
  {
   "cell_type": "markdown",
   "metadata": {
    "slideshow": {
     "slide_type": "slide"
    }
   },
   "source": [
    "## 交差検証法"
   ]
  },
  {
   "cell_type": "markdown",
   "metadata": {
    "slideshow": {
     "slide_type": "slide"
    }
   },
   "source": [
    "## データ"
   ]
  },
  {
   "cell_type": "code",
   "execution_count": 82,
   "metadata": {
    "slideshow": {
     "slide_type": "-"
    }
   },
   "outputs": [],
   "source": [
    "n = 100            # データ数\n",
    "x = np.random.uniform(-2,2,n); ord = np.argsort(x)\n",
    "y = np.sin(2*np.pi*x)/x + np.random.normal(scale=0.5,size=n)"
   ]
  },
  {
   "cell_type": "code",
   "execution_count": 83,
   "metadata": {
    "slideshow": {
     "slide_type": "fragment"
    }
   },
   "outputs": [
    {
     "data": {
      "image/png": "[encoded data removed]",
      "text/plain": [
       "<Figure size 432x288 with 1 Axes>"
      ]
     },
     "metadata": {
      "needs_background": "light"
     },
     "output_type": "display_data"
    }
   ],
   "source": [
    "plt.scatter(x,y); plt.show()"
   ]
  },
  {
   "cell_type": "markdown",
   "metadata": {
    "slideshow": {
     "slide_type": "slide"
    }
   },
   "source": [
    "## いろいろな正則化パラメータでリッジ回帰"
   ]
  },
  {
   "cell_type": "code",
   "execution_count": 84,
   "metadata": {
    "slideshow": {
     "slide_type": "subslide"
    }
   },
   "outputs": [
    {
     "data": {
      "text/plain": [
       "array([1.e-13, 1.e-12, 1.e-11, 1.e-10, 1.e-09, 1.e-08, 1.e-07, 1.e-06,\n",
       "       1.e-05, 1.e-04, 1.e-03, 1.e-02, 1.e-01, 1.e+00, 1.e+01, 1.e+02,\n",
       "       1.e+03, 1.e+04])"
      ]
     },
     "execution_count": 84,
     "metadata": {},
     "output_type": "execute_result"
    }
   ],
   "source": [
    "degree = 15     # 15次多項式モデルを使う\n",
    "X = np.power.outer(x,np.arange(1,degree+1))  #  基底関数：多項式\n",
    "\n",
    "alphas  = 10.**np.arange(-13,5)        # 正則化パラメータの候補\n",
    "alphas"
   ]
  },
  {
   "cell_type": "code",
   "execution_count": 85,
   "metadata": {
    "slideshow": {
     "slide_type": "subslide"
    }
   },
   "outputs": [
    {
     "data": {
      "image/png": "[encoded data removed]",
      "text/plain": [
       "<Figure size 432x288 with 1 Axes>"
      ]
     },
     "metadata": {
      "needs_background": "light"
     },
     "output_type": "display_data"
    }
   ],
   "source": [
    "for a in alphas:\n",
    "    rd = linear_model.Ridge(alpha=a).fit(X,y)       # リッジ回帰\n",
    "    py = rd.predict(X)\n",
    "    # alpha 毎に，リッジ回帰の結果をプロット  \n",
    "    plt.plot(np.sort(x), py[ord], ls='-', lw=2)\n",
    "plt.scatter(x, y, c='black', s=10)\n",
    "plt.show()"
   ]
  },
  {
   "cell_type": "markdown",
   "metadata": {
    "slideshow": {
     "slide_type": "slide"
    }
   },
   "source": [
    "## 交差検証法：\n",
    "sklearn.linear_model.RidgeCV"
   ]
  },
  {
   "cell_type": "code",
   "execution_count": 86,
   "metadata": {
    "slideshow": {
     "slide_type": "fragment"
    }
   },
   "outputs": [
    {
     "name": "stdout",
     "output_type": "stream",
     "text": [
      "alphas:  [1.e-13 1.e-12 1.e-11 1.e-10 1.e-09 1.e-08 1.e-07 1.e-06 1.e-05 1.e-04\n",
      " 1.e-03 1.e-02 1.e-01 1.e+00 1.e+01 1.e+02 1.e+03 1.e+04]\n"
     ]
    }
   ],
   "source": [
    "print('alphas: ',alphas)"
   ]
  },
  {
   "cell_type": "code",
   "execution_count": 87,
   "metadata": {
    "slideshow": {
     "slide_type": "fragment"
    }
   },
   "outputs": [
    {
     "data": {
      "text/plain": [
       "RidgeCV(alphas=array([1.e-13, 1.e-12, 1.e-11, 1.e-10, 1.e-09, 1.e-08, 1.e-07, 1.e-06,\n",
       "       1.e-05, 1.e-04, 1.e-03, 1.e-02, 1.e-01, 1.e+00, 1.e+01, 1.e+02,\n",
       "       1.e+03, 1.e+04]),\n",
       "        cv=10, fit_intercept=True, gcv_mode=None, normalize=False, scoring=None,\n",
       "        store_cv_values=False)"
      ]
     },
     "execution_count": 87,
     "metadata": {},
     "output_type": "execute_result"
    }
   ],
   "source": [
    "cvf = linear_model.RidgeCV(cv=10, alphas=alphas)  # モデル設定：リッジ回帰の交差検証法\n",
    "cvf.fit(X,y)       # 学習"
   ]
  },
  {
   "cell_type": "code",
   "execution_count": 88,
   "metadata": {
    "slideshow": {
     "slide_type": "fragment"
    }
   },
   "outputs": [
    {
     "data": {
      "text/plain": [
       "0.0001"
      ]
     },
     "execution_count": 88,
     "metadata": {},
     "output_type": "execute_result"
    }
   ],
   "source": [
    "# 最適な alpha (候補：10^(-13),...,10^4)\n",
    "cvf.alpha_"
   ]
  },
  {
   "cell_type": "markdown",
   "metadata": {
    "slideshow": {
     "slide_type": "slide"
    }
   },
   "source": [
    "## 最適な alpha によるリッジ回帰"
   ]
  },
  {
   "cell_type": "code",
   "execution_count": 89,
   "metadata": {
    "slideshow": {
     "slide_type": "fragment"
    }
   },
   "outputs": [
    {
     "data": {
      "image/png": "[encoded data removed]",
      "text/plain": [
       "<Figure size 432x288 with 1 Axes>"
      ]
     },
     "metadata": {
      "needs_background": "light"
     },
     "output_type": "display_data"
    }
   ],
   "source": [
    "tx = np.linspace(-2,2, 100)                                       # テスト点\n",
    "tX = np.power.outer(tx,np.arange(1,degree+1))   # テスト点に対応するデータ行列\n",
    "py = cvf.predict(tX)          # 予測\n",
    "plt.plot(tx,py,label=\"optimal alpha\", ls='-', lw=2)\n",
    "plt.scatter(x,y,c='black',s=10)              # データ点プロット\n",
    "plt.legend(); plt.show()"
   ]
  },
  {
   "cell_type": "code",
   "execution_count": null,
   "metadata": {},
   "outputs": [],
   "source": []
  }
 ],
 "metadata": {
  "celltoolbar": "Slideshow",
  "kernelspec": {
   "display_name": "Python 3",
   "language": "python",
   "name": "python3"
  },
  "language_info": {
   "codemirror_mode": {
    "name": "ipython",
    "version": 3
   },
   "file_extension": ".py",
   "mimetype": "text/x-python",
   "name": "python",
   "nbconvert_exporter": "python",
   "pygments_lexer": "ipython3",
   "version": "3.7.3"
  }
 },
 "nbformat": 4,
 "nbformat_minor": 2
}
